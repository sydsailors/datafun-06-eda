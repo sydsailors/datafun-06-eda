{
 "cells": [
  {
   "cell_type": "markdown",
   "id": "74e4a4a8",
   "metadata": {},
   "source": [
    "# Sydney Sailors: Penguins Dataset\n",
    "\n",
    "Author: Sydney Sailors\n",
    "\n",
    "Purpose: Perform exploratory data analysis (EDA) using tools such as pandas, Seaborn, and Matplotlib."
   ]
  },
  {
   "cell_type": "markdown",
   "id": "62019ee2",
   "metadata": {},
   "source": [
    "## Imports section\n",
    "1. pandas as pd\n",
    "2. Seaborn as sns\n",
    "3. Matplotlib\n",
    "4. Numpy\n",
    "5. Jupyterlab\n",
    "6. matplotlib.axes as Axes"
   ]
  },
  {
   "cell_type": "code",
   "execution_count": 4,
   "id": "bf15005b",
   "metadata": {},
   "outputs": [],
   "source": [
    "import pandas as pd\n",
    "import seaborn as sns\n",
    "import matplotlib\n",
    "import numpy\n",
    "import jupyterlab\n",
    "\n",
    "#Axes object (basic plot type returned by Seaborn)\n",
    "from matplotlib.axes import Axes"
   ]
  }
 ],
 "metadata": {
  "kernelspec": {
   "display_name": ".venv",
   "language": "python",
   "name": "python3"
  },
  "language_info": {
   "codemirror_mode": {
    "name": "ipython",
    "version": 3
   },
   "file_extension": ".py",
   "mimetype": "text/x-python",
   "name": "python",
   "nbconvert_exporter": "python",
   "pygments_lexer": "ipython3",
   "version": "3.13.3"
  }
 },
 "nbformat": 4,
 "nbformat_minor": 5
}
